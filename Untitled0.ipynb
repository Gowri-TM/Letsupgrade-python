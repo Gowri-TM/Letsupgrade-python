{
  "nbformat": 4,
  "nbformat_minor": 0,
  "metadata": {
    "colab": {
      "name": "Untitled0.ipynb",
      "provenance": []
    },
    "kernelspec": {
      "name": "python3",
      "display_name": "Python 3"
    }
  },
  "cells": [
    {
      "cell_type": "code",
      "metadata": {
        "id": "pahlEIanuOXC",
        "colab_type": "code",
        "colab": {
          "base_uri": "https://localhost:8080/",
          "height": 34
        },
        "outputId": "6ac3ad64-9ce8-4016-90a3-136be37bcdb0"
      },
      "source": [
        "print(\"Hello \\\n",
        "World \")"
      ],
      "execution_count": 4,
      "outputs": [
        {
          "output_type": "stream",
          "text": [
            "Hello World \n"
          ],
          "name": "stdout"
        }
      ]
    }
  ]
}